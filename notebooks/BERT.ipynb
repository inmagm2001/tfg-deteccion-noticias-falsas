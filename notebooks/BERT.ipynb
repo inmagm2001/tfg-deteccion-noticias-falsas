{
  "cells": [
    {
      "cell_type": "markdown",
      "metadata": {
        "id": "v0xdJRoJKzfZ"
      },
      "source": [
        "# Clasificación con BERT\n",
        "\n",
        "**Autor: Inmaculada García Moreno**\n",
        "\n",
        "Este notebook aborda la tarea de clasificación de noticias falsas a partir del texto utilizando el modelo BERT (Bidirectional Encoder Representations from Transformers). \n",
        "\n",
        "Para procesar el texto se utiliza el modelo `DistilBERT`, una versión ligera de BERT entrenada sobre corpus extensos como Wikipedia y el Toronto Book Corpus. BERT permite obtener representaciones semánticas profundas del texto mediante embeddings que se extraen del token `[CLS]`.\n",
        "\n",
        "Estas representaciones se emplean como entrada a una red neuronal que actúa como clasificador binario. El objetivo final es predecir si una noticia es verdadera o falsa en función de su contenido textual.\n",
        "\n"
      ]
    },
    {
      "cell_type": "markdown",
      "metadata": {
        "id": "Hgi2f0zhMfaU"
      },
      "source": [
        "## Importación de librerías"
      ]
    },
    {
      "cell_type": "code",
      "execution_count": null,
      "metadata": {
        "id": "nyNHOUEIamPO"
      },
      "outputs": [],
      "source": [
        "import pandas as pd\n",
        "from google.colab import drive\n",
        "from sklearn.model_selection import train_test_split\n",
        "from transformers import DistilBertTokenizer, DistilBertModel\n",
        "import torch\n",
        "from torch.utils.data import Dataset\n",
        "from torch.utils.data import DataLoader\n",
        "import torch.nn as nn\n",
        "import numpy as np\n",
        "import torch.optim.lr_scheduler as lr_scheduler\n",
        "from sklearn.utils.class_weight import compute_class_weight\n"
      ]
    },
    {
      "cell_type": "markdown",
      "metadata": {
        "id": "AcaYWcHpNOVH"
      },
      "source": [
        "## Importación y limpieza de datos\n",
        "\n",
        "Se monta Google Drive para poder acceder al dataset que está guardado en una carpeta del entorno."
      ]
    },
    {
      "cell_type": "code",
      "execution_count": null,
      "metadata": {
        "colab": {
          "base_uri": "https://localhost:8080/"
        },
        "id": "0DEqthf5bZR3",
        "outputId": "ff0ab85a-fef9-4580-b72f-afea051328c6"
      },
      "outputs": [
        {
          "name": "stdout",
          "output_type": "stream",
          "text": [
            "Mounted at /content/drive\n"
          ]
        }
      ],
      "source": [
        "drive.mount('/content/drive', force_remount=True)"
      ]
    },
    {
      "cell_type": "markdown",
      "metadata": {
        "id": "imuEYxmiNazX"
      },
      "source": [
        "Se carga el archivo .tsv que contiene los datos del conjunto de entrenamiento. Este archivo está separado por tabulaciones y se lee directamente desde la ruta donde ha sido almacenado en Google Drive. Se muestra un vistazo a las primeras filas del dataset."
      ]
    },
    {
      "cell_type": "code",
      "execution_count": null,
      "metadata": {
        "colab": {
          "base_uri": "https://localhost:8080/",
          "height": 563
        },
        "id": "J60bnI4-kTQB",
        "outputId": "a7679a91-3633-4c0e-b18c-cc4846a30423"
      },
      "outputs": [
        {
          "data": {
            "application/vnd.google.colaboratory.intrinsic+json": {
              "summary": "{\n  \"name\": \"df\",\n  \"rows\": 61849,\n  \"fields\": [\n    {\n      \"column\": \"title\",\n      \"properties\": {\n        \"dtype\": \"string\",\n        \"num_unique_values\": 61521,\n        \"samples\": [\n          \"two fantastic tweet perfectly show main difference hillary trump\",\n          \"donald trump receive intelligence briefing russia week breitbart\",\n          \"medium go insane trump every way thats dont trust\"\n        ],\n        \"semantic_type\": \"\",\n        \"description\": \"\"\n      }\n    },\n    {\n      \"column\": \"text\",\n      \"properties\": {\n        \"dtype\": \"string\",\n        \"num_unique_values\": 60838,\n        \"samples\": [\n          \"one thing donald trump made remarkably clear throughout campaign presidency low rating pathetic said debate high low certain network better others feature etc etctaking all consideration trump really going hate fact lower approval rating predecessor past yearsaccording pew research center trump rating job done far presenting vision public lower recent president received following election partisan gap rating job trump done far wider prospective president dating election trump also receives low mark initial cabinet choice high level appointment more say disapprove approve cabinet choice appointment trump made far contrast majority approved choice made past four presidentelects fact approval rating trump cabinet choice point lower next lowestrated presidentelect also alongside negative rating job trump done explaining plan selecting cabinet far most also hold overall unfavorable view presidentelect look visual comparison put pewapproval rating trump transition lower predecessor urltoken pictwittercomgevzqodnu pew research center emailtoken december trump receives low mark initial cabinet choice high level appointment urltoken pictwittercomhiucwkanch pew research center emailtoken december trump personal favorability far lower past presidentelects urltoken pictwittercomocbfkurg pew research center emailtoken december trump obsession rating taken consideration know going go very well likely going take twitter very soon go terrible pew something affectthe presidentelect very very thin skin grab popcorn get readyfeatured photo chip somodevillagetty image\",\n          \"debate french television show niveau z ro zero level rightwing nationalist daniel conversano spewed much hate essayist alain soral hold back anymore not french conversano said arab immigrant think muslim killed wiped country mean necessary even mean committing war crimesconversano also antisemitic mean want treat jew like nazi treated themsoral took issue conversano open hostility toward muslim saying not white mean replied right dare say questiontoken thing escalatedconversano truth everyone realizes soral everyone little sht questiontoken conversano responded defining everyone percent people support national front party poll aholes arab point soral stand listening conversano racist bullshit anymore proceeded whoop asshere video via youtube fight markover year ago american joined nation around world fight defeat regime preached racial purity hate certain ethnic group white nationalist germany took control nation within via election people paid price million people around globe paid price very life democracy humanity directly threatened annihilation people like daniel conversano france donald trump america allowed peddle hatred bigotry mainstream idea play people fear emotion turn people enough people hand power end brutal dictatorship commit human right violation even genocidea rightwing movement currently rising power across europe like plague even america going controlled white nationalist next four year reason million people europe america forgotten white nationalist done notsodistant past jew one persecuted world war ii muslim one persecuted fascism poised destroy democracy question going stand fight government military force free world dominated evil questiontoken may not necessarily agree soral least courage fight white nationalist defense human right all white nationalist committing hate crime killing people decadesfeatured image via screenshot\",\n          \"dallas police officer seeing red several shooting police officer decided enough lawyer going punish everyone absolutely allegedly conspiring create race war yes race war entire right see whenever people call attention racism permeates justice systempolice sergeant demetrick pennie year veteran dallas police force suing leader black life matter movement along rev al sharpton billionaire george soros louis farrakhan former attorney general eric holder president obama hillary clinton many more bizarre part attorney rightwing nut larry klayman actually see active conspiracy civil action deprivation plaintiff member class herein civil right conspiracy plaintiff member class herein civil right obstruction justice prevent enforcement civil right complaint also say klayman received call defendant new black panther party black life matter acting concert defendant all working together ignite continue race war fomented threatening kill family emphasis minein discussing july murder dallas police officer lawsuit state shooting suspect claimed acting alone not affiliated black life matter anything else investigation background allegedly revealed member nation islam new black panther partyapparently enough tie group directly hillary obama holder everyone else although hard see klayman pennie actually know conspiracy hereit like know complaint repeatedly state something along line defendant acting concert every one inciting imminent serious bodily injury killing police officer law enforcement person acting concert mean knowing cooperation two more people accomplish something no real concrete evidence anybody actively working anyone else incite violence police officer yet keep using phrase not think mean think mean either frightening amount paranoia fueled bothit probably boththe complaint also accuses everyone spreading fiction police officer intentionally systematically targeting hunting black minority kill no reason racism sport exaggerate much klayman questiontoken lord god minor deity amazing conclusion actual complaint filed actual courtother known problem arresting shooting black people not guilty crime minority arrested prosecuted disproportionately general population fiction planet whence complaint arose tooklayman\"\n        ],\n        \"semantic_type\": \"\",\n        \"description\": \"\"\n      }\n    },\n    {\n      \"column\": \"label\",\n      \"properties\": {\n        \"dtype\": \"number\",\n        \"std\": 0,\n        \"min\": 0,\n        \"max\": 1,\n        \"num_unique_values\": 2,\n        \"samples\": [\n          0,\n          1\n        ],\n        \"semantic_type\": \"\",\n        \"description\": \"\"\n      }\n    },\n    {\n      \"column\": \"news_type\",\n      \"properties\": {\n        \"dtype\": \"category\",\n        \"num_unique_values\": 2,\n        \"samples\": [\n          \"Falsa\",\n          \"Real\"\n        ],\n        \"semantic_type\": \"\",\n        \"description\": \"\"\n      }\n    },\n    {\n      \"column\": \"lang\",\n      \"properties\": {\n        \"dtype\": \"category\",\n        \"num_unique_values\": 1,\n        \"samples\": [\n          \"en\"\n        ],\n        \"semantic_type\": \"\",\n        \"description\": \"\"\n      }\n    },\n    {\n      \"column\": \"Cluster\",\n      \"properties\": {\n        \"dtype\": \"number\",\n        \"std\": 1,\n        \"min\": 0,\n        \"max\": 6,\n        \"num_unique_values\": 7,\n        \"samples\": [\n          3\n        ],\n        \"semantic_type\": \"\",\n        \"description\": \"\"\n      }\n    },\n    {\n      \"column\": \"category\",\n      \"properties\": {\n        \"dtype\": \"category\",\n        \"num_unique_values\": 7,\n        \"samples\": [\n          \"Tensi\\u00f3n social\"\n        ],\n        \"semantic_type\": \"\",\n        \"description\": \"\"\n      }\n    },\n    {\n      \"column\": \"title_length\",\n      \"properties\": {\n        \"dtype\": \"number\",\n        \"std\": 3,\n        \"min\": 1,\n        \"max\": 72,\n        \"num_unique_values\": 47,\n        \"samples\": [\n          32\n        ],\n        \"semantic_type\": \"\",\n        \"description\": \"\"\n      }\n    },\n    {\n      \"column\": \"text_length\",\n      \"properties\": {\n        \"dtype\": \"number\",\n        \"std\": 612,\n        \"min\": 0,\n        \"max\": 24234,\n        \"num_unique_values\": 2890,\n        \"samples\": [\n          251\n        ],\n        \"semantic_type\": \"\",\n        \"description\": \"\"\n      }\n    },\n    {\n      \"column\": \"total_length\",\n      \"properties\": {\n        \"dtype\": \"number\",\n        \"std\": 612,\n        \"min\": 2,\n        \"max\": 24243,\n        \"num_unique_values\": 2883,\n        \"samples\": [\n          761\n        ],\n        \"semantic_type\": \"\",\n        \"description\": \"\"\n      }\n    },\n    {\n      \"column\": \"sentences\",\n      \"properties\": {\n        \"dtype\": \"string\",\n        \"num_unique_values\": 61830,\n        \"samples\": [\n          \"ireland welcome home student spent four year egyptian jail dublin reuters irish student ibrahim halawa greeted cheering crowd dublin airport tuesday arrived home following acquittal last month fouryear mass trial halawa born raised dublin son most senior muslim cleric ireland arrested along hundred others part crackdown protest egypt still feel like dream moment waited four year free man hoping get life back get back college get career smiling halawa draped irish flag told reporter upon arrival home halawa thanked irish people government family working hard secure release member irish government lobbied return among wellwishers halawa three sister charged along nearly others crime including breaking mosque killing people illegal possession firearm violence followed military overthrow egypt islamist president mohamed mursi halawas said vacation visiting extended family egypt joined protest military ouster mursi defendant all faced death penalty though none received hundred given hefty jail sentence halawa sister released shortly arrest case one most complex sensitive difficult consular case irish government ever responded all colleague very pleased ibrahim ordeal end irish foreign minister simon coveney said statement halawa said regularly tortured period detention egyptian authority repeatedly denied allegation abuse right group all claim torture often denied took place senior egyptian interior ministry source said end prosecution court decisive anyone experience assault jail must report prosecution courtand prison all subjected inspection\"\n        ],\n        \"semantic_type\": \"\",\n        \"description\": \"\"\n      }\n    }\n  ]\n}",
              "type": "dataframe",
              "variable_name": "df"
            },
            "text/html": [
              "\n",
              "  <div id=\"df-9bb27f83-a43c-424e-8663-714067bc3f20\" class=\"colab-df-container\">\n",
              "    <div>\n",
              "<style scoped>\n",
              "    .dataframe tbody tr th:only-of-type {\n",
              "        vertical-align: middle;\n",
              "    }\n",
              "\n",
              "    .dataframe tbody tr th {\n",
              "        vertical-align: top;\n",
              "    }\n",
              "\n",
              "    .dataframe thead th {\n",
              "        text-align: right;\n",
              "    }\n",
              "</style>\n",
              "<table border=\"1\" class=\"dataframe\">\n",
              "  <thead>\n",
              "    <tr style=\"text-align: right;\">\n",
              "      <th></th>\n",
              "      <th>title</th>\n",
              "      <th>text</th>\n",
              "      <th>label</th>\n",
              "      <th>news_type</th>\n",
              "      <th>lang</th>\n",
              "      <th>Cluster</th>\n",
              "      <th>category</th>\n",
              "      <th>title_length</th>\n",
              "      <th>text_length</th>\n",
              "      <th>total_length</th>\n",
              "      <th>sentences</th>\n",
              "    </tr>\n",
              "  </thead>\n",
              "  <tbody>\n",
              "    <tr>\n",
              "      <th>0</th>\n",
              "      <td>law enforcement high alert following threat co...</td>\n",
              "      <td>no comment expected barack obama member fyf fu...</td>\n",
              "      <td>1</td>\n",
              "      <td>Real</td>\n",
              "      <td>en</td>\n",
              "      <td>3</td>\n",
              "      <td>Tensión social</td>\n",
              "      <td>18</td>\n",
              "      <td>871</td>\n",
              "      <td>889</td>\n",
              "      <td>law enforcement high alert following threat co...</td>\n",
              "    </tr>\n",
              "    <tr>\n",
              "      <th>1</th>\n",
              "      <td>unbelievable exclamationtoken obamas attorney ...</td>\n",
              "      <td>most demonstrator gathered last night exercisi...</td>\n",
              "      <td>1</td>\n",
              "      <td>Real</td>\n",
              "      <td>en</td>\n",
              "      <td>3</td>\n",
              "      <td>Tensión social</td>\n",
              "      <td>18</td>\n",
              "      <td>34</td>\n",
              "      <td>52</td>\n",
              "      <td>unbelievable exclamationtoken obamas attorney ...</td>\n",
              "    </tr>\n",
              "    <tr>\n",
              "      <th>2</th>\n",
              "      <td>bobby jindal raised hindu us story christian c...</td>\n",
              "      <td>dozen politically active pastor came private d...</td>\n",
              "      <td>0</td>\n",
              "      <td>Falsa</td>\n",
              "      <td>en</td>\n",
              "      <td>3</td>\n",
              "      <td>Tensión social</td>\n",
              "      <td>16</td>\n",
              "      <td>1321</td>\n",
              "      <td>1337</td>\n",
              "      <td>bobby jindal raised hindu us story christian c...</td>\n",
              "    </tr>\n",
              "    <tr>\n",
              "      <th>3</th>\n",
              "      <td>satan russia unvelis image terrifying new supe...</td>\n",
              "      <td>r sarmat missile dubbed satan replace s fly mi...</td>\n",
              "      <td>1</td>\n",
              "      <td>Real</td>\n",
              "      <td>en</td>\n",
              "      <td>4</td>\n",
              "      <td>Geopolítica</td>\n",
              "      <td>16</td>\n",
              "      <td>329</td>\n",
              "      <td>345</td>\n",
              "      <td>satan russia unvelis image terrifying new supe...</td>\n",
              "    </tr>\n",
              "    <tr>\n",
              "      <th>4</th>\n",
              "      <td>time exclamationtoken christian group sue amaz...</td>\n",
              "      <td>all say one time someone sued southern poverty...</td>\n",
              "      <td>1</td>\n",
              "      <td>Real</td>\n",
              "      <td>en</td>\n",
              "      <td>3</td>\n",
              "      <td>Tensión social</td>\n",
              "      <td>13</td>\n",
              "      <td>244</td>\n",
              "      <td>257</td>\n",
              "      <td>time exclamationtoken christian group sue amaz...</td>\n",
              "    </tr>\n",
              "    <tr>\n",
              "      <th>...</th>\n",
              "      <td>...</td>\n",
              "      <td>...</td>\n",
              "      <td>...</td>\n",
              "      <td>...</td>\n",
              "      <td>...</td>\n",
              "      <td>...</td>\n",
              "      <td>...</td>\n",
              "      <td>...</td>\n",
              "      <td>...</td>\n",
              "      <td>...</td>\n",
              "      <td>...</td>\n",
              "    </tr>\n",
              "    <tr>\n",
              "      <th>61844</th>\n",
              "      <td>wikileaks email show clinton foundation fund u...</td>\n",
              "      <td>email released wikileaks sunday appears show f...</td>\n",
              "      <td>1</td>\n",
              "      <td>Real</td>\n",
              "      <td>en</td>\n",
              "      <td>6</td>\n",
              "      <td>Clinton y escándalos</td>\n",
              "      <td>15</td>\n",
              "      <td>205</td>\n",
              "      <td>220</td>\n",
              "      <td>wikileaks email show clinton foundation fund u...</td>\n",
              "    </tr>\n",
              "    <tr>\n",
              "      <th>61845</th>\n",
              "      <td>russian steal research trump hack u democratic...</td>\n",
              "      <td>washington reuters hacker believed working rus...</td>\n",
              "      <td>0</td>\n",
              "      <td>Falsa</td>\n",
              "      <td>en</td>\n",
              "      <td>6</td>\n",
              "      <td>Clinton y escándalos</td>\n",
              "      <td>11</td>\n",
              "      <td>735</td>\n",
              "      <td>746</td>\n",
              "      <td>russian steal research trump hack u democratic...</td>\n",
              "    </tr>\n",
              "    <tr>\n",
              "      <th>61846</th>\n",
              "      <td>watch giuliani demand democrat apologize trump...</td>\n",
              "      <td>know fantasyland republican never questioned c...</td>\n",
              "      <td>1</td>\n",
              "      <td>Real</td>\n",
              "      <td>en</td>\n",
              "      <td>0</td>\n",
              "      <td>Trump y elecciones</td>\n",
              "      <td>10</td>\n",
              "      <td>604</td>\n",
              "      <td>614</td>\n",
              "      <td>watch giuliani demand democrat apologize trump...</td>\n",
              "    </tr>\n",
              "    <tr>\n",
              "      <th>61847</th>\n",
              "      <td>migrant refuse leave train refugee camp hungary</td>\n",
              "      <td>migrant refuse leave train refugee camp hungar...</td>\n",
              "      <td>0</td>\n",
              "      <td>Falsa</td>\n",
              "      <td>en</td>\n",
              "      <td>4</td>\n",
              "      <td>Geopolítica</td>\n",
              "      <td>10</td>\n",
              "      <td>477</td>\n",
              "      <td>487</td>\n",
              "      <td>migrant refuse leave train refugee camp hungar...</td>\n",
              "    </tr>\n",
              "    <tr>\n",
              "      <th>61848</th>\n",
              "      <td>trump tussle give unpopular mexican leader muc...</td>\n",
              "      <td>mexico city reuters donald trump combative sty...</td>\n",
              "      <td>0</td>\n",
              "      <td>Falsa</td>\n",
              "      <td>en</td>\n",
              "      <td>0</td>\n",
              "      <td>Trump y elecciones</td>\n",
              "      <td>10</td>\n",
              "      <td>559</td>\n",
              "      <td>569</td>\n",
              "      <td>trump tussle give unpopular mexican leader muc...</td>\n",
              "    </tr>\n",
              "  </tbody>\n",
              "</table>\n",
              "<p>61849 rows × 11 columns</p>\n",
              "</div>\n",
              "    <div class=\"colab-df-buttons\">\n",
              "\n",
              "  <div class=\"colab-df-container\">\n",
              "    <button class=\"colab-df-convert\" onclick=\"convertToInteractive('df-9bb27f83-a43c-424e-8663-714067bc3f20')\"\n",
              "            title=\"Convert this dataframe to an interactive table.\"\n",
              "            style=\"display:none;\">\n",
              "\n",
              "  <svg xmlns=\"http://www.w3.org/2000/svg\" height=\"24px\" viewBox=\"0 -960 960 960\">\n",
              "    <path d=\"M120-120v-720h720v720H120Zm60-500h600v-160H180v160Zm220 220h160v-160H400v160Zm0 220h160v-160H400v160ZM180-400h160v-160H180v160Zm440 0h160v-160H620v160ZM180-180h160v-160H180v160Zm440 0h160v-160H620v160Z\"/>\n",
              "  </svg>\n",
              "    </button>\n",
              "\n",
              "  <style>\n",
              "    .colab-df-container {\n",
              "      display:flex;\n",
              "      gap: 12px;\n",
              "    }\n",
              "\n",
              "    .colab-df-convert {\n",
              "      background-color: #E8F0FE;\n",
              "      border: none;\n",
              "      border-radius: 50%;\n",
              "      cursor: pointer;\n",
              "      display: none;\n",
              "      fill: #1967D2;\n",
              "      height: 32px;\n",
              "      padding: 0 0 0 0;\n",
              "      width: 32px;\n",
              "    }\n",
              "\n",
              "    .colab-df-convert:hover {\n",
              "      background-color: #E2EBFA;\n",
              "      box-shadow: 0px 1px 2px rgba(60, 64, 67, 0.3), 0px 1px 3px 1px rgba(60, 64, 67, 0.15);\n",
              "      fill: #174EA6;\n",
              "    }\n",
              "\n",
              "    .colab-df-buttons div {\n",
              "      margin-bottom: 4px;\n",
              "    }\n",
              "\n",
              "    [theme=dark] .colab-df-convert {\n",
              "      background-color: #3B4455;\n",
              "      fill: #D2E3FC;\n",
              "    }\n",
              "\n",
              "    [theme=dark] .colab-df-convert:hover {\n",
              "      background-color: #434B5C;\n",
              "      box-shadow: 0px 1px 3px 1px rgba(0, 0, 0, 0.15);\n",
              "      filter: drop-shadow(0px 1px 2px rgba(0, 0, 0, 0.3));\n",
              "      fill: #FFFFFF;\n",
              "    }\n",
              "  </style>\n",
              "\n",
              "    <script>\n",
              "      const buttonEl =\n",
              "        document.querySelector('#df-9bb27f83-a43c-424e-8663-714067bc3f20 button.colab-df-convert');\n",
              "      buttonEl.style.display =\n",
              "        google.colab.kernel.accessAllowed ? 'block' : 'none';\n",
              "\n",
              "      async function convertToInteractive(key) {\n",
              "        const element = document.querySelector('#df-9bb27f83-a43c-424e-8663-714067bc3f20');\n",
              "        const dataTable =\n",
              "          await google.colab.kernel.invokeFunction('convertToInteractive',\n",
              "                                                    [key], {});\n",
              "        if (!dataTable) return;\n",
              "\n",
              "        const docLinkHtml = 'Like what you see? Visit the ' +\n",
              "          '<a target=\"_blank\" href=https://colab.research.google.com/notebooks/data_table.ipynb>data table notebook</a>'\n",
              "          + ' to learn more about interactive tables.';\n",
              "        element.innerHTML = '';\n",
              "        dataTable['output_type'] = 'display_data';\n",
              "        await google.colab.output.renderOutput(dataTable, element);\n",
              "        const docLink = document.createElement('div');\n",
              "        docLink.innerHTML = docLinkHtml;\n",
              "        element.appendChild(docLink);\n",
              "      }\n",
              "    </script>\n",
              "  </div>\n",
              "\n",
              "\n",
              "    <div id=\"df-b5771a89-f0ff-4d68-948d-ed4f6e2f1085\">\n",
              "      <button class=\"colab-df-quickchart\" onclick=\"quickchart('df-b5771a89-f0ff-4d68-948d-ed4f6e2f1085')\"\n",
              "                title=\"Suggest charts\"\n",
              "                style=\"display:none;\">\n",
              "\n",
              "<svg xmlns=\"http://www.w3.org/2000/svg\" height=\"24px\"viewBox=\"0 0 24 24\"\n",
              "     width=\"24px\">\n",
              "    <g>\n",
              "        <path d=\"M19 3H5c-1.1 0-2 .9-2 2v14c0 1.1.9 2 2 2h14c1.1 0 2-.9 2-2V5c0-1.1-.9-2-2-2zM9 17H7v-7h2v7zm4 0h-2V7h2v10zm4 0h-2v-4h2v4z\"/>\n",
              "    </g>\n",
              "</svg>\n",
              "      </button>\n",
              "\n",
              "<style>\n",
              "  .colab-df-quickchart {\n",
              "      --bg-color: #E8F0FE;\n",
              "      --fill-color: #1967D2;\n",
              "      --hover-bg-color: #E2EBFA;\n",
              "      --hover-fill-color: #174EA6;\n",
              "      --disabled-fill-color: #AAA;\n",
              "      --disabled-bg-color: #DDD;\n",
              "  }\n",
              "\n",
              "  [theme=dark] .colab-df-quickchart {\n",
              "      --bg-color: #3B4455;\n",
              "      --fill-color: #D2E3FC;\n",
              "      --hover-bg-color: #434B5C;\n",
              "      --hover-fill-color: #FFFFFF;\n",
              "      --disabled-bg-color: #3B4455;\n",
              "      --disabled-fill-color: #666;\n",
              "  }\n",
              "\n",
              "  .colab-df-quickchart {\n",
              "    background-color: var(--bg-color);\n",
              "    border: none;\n",
              "    border-radius: 50%;\n",
              "    cursor: pointer;\n",
              "    display: none;\n",
              "    fill: var(--fill-color);\n",
              "    height: 32px;\n",
              "    padding: 0;\n",
              "    width: 32px;\n",
              "  }\n",
              "\n",
              "  .colab-df-quickchart:hover {\n",
              "    background-color: var(--hover-bg-color);\n",
              "    box-shadow: 0 1px 2px rgba(60, 64, 67, 0.3), 0 1px 3px 1px rgba(60, 64, 67, 0.15);\n",
              "    fill: var(--button-hover-fill-color);\n",
              "  }\n",
              "\n",
              "  .colab-df-quickchart-complete:disabled,\n",
              "  .colab-df-quickchart-complete:disabled:hover {\n",
              "    background-color: var(--disabled-bg-color);\n",
              "    fill: var(--disabled-fill-color);\n",
              "    box-shadow: none;\n",
              "  }\n",
              "\n",
              "  .colab-df-spinner {\n",
              "    border: 2px solid var(--fill-color);\n",
              "    border-color: transparent;\n",
              "    border-bottom-color: var(--fill-color);\n",
              "    animation:\n",
              "      spin 1s steps(1) infinite;\n",
              "  }\n",
              "\n",
              "  @keyframes spin {\n",
              "    0% {\n",
              "      border-color: transparent;\n",
              "      border-bottom-color: var(--fill-color);\n",
              "      border-left-color: var(--fill-color);\n",
              "    }\n",
              "    20% {\n",
              "      border-color: transparent;\n",
              "      border-left-color: var(--fill-color);\n",
              "      border-top-color: var(--fill-color);\n",
              "    }\n",
              "    30% {\n",
              "      border-color: transparent;\n",
              "      border-left-color: var(--fill-color);\n",
              "      border-top-color: var(--fill-color);\n",
              "      border-right-color: var(--fill-color);\n",
              "    }\n",
              "    40% {\n",
              "      border-color: transparent;\n",
              "      border-right-color: var(--fill-color);\n",
              "      border-top-color: var(--fill-color);\n",
              "    }\n",
              "    60% {\n",
              "      border-color: transparent;\n",
              "      border-right-color: var(--fill-color);\n",
              "    }\n",
              "    80% {\n",
              "      border-color: transparent;\n",
              "      border-right-color: var(--fill-color);\n",
              "      border-bottom-color: var(--fill-color);\n",
              "    }\n",
              "    90% {\n",
              "      border-color: transparent;\n",
              "      border-bottom-color: var(--fill-color);\n",
              "    }\n",
              "  }\n",
              "</style>\n",
              "\n",
              "      <script>\n",
              "        async function quickchart(key) {\n",
              "          const quickchartButtonEl =\n",
              "            document.querySelector('#' + key + ' button');\n",
              "          quickchartButtonEl.disabled = true;  // To prevent multiple clicks.\n",
              "          quickchartButtonEl.classList.add('colab-df-spinner');\n",
              "          try {\n",
              "            const charts = await google.colab.kernel.invokeFunction(\n",
              "                'suggestCharts', [key], {});\n",
              "          } catch (error) {\n",
              "            console.error('Error during call to suggestCharts:', error);\n",
              "          }\n",
              "          quickchartButtonEl.classList.remove('colab-df-spinner');\n",
              "          quickchartButtonEl.classList.add('colab-df-quickchart-complete');\n",
              "        }\n",
              "        (() => {\n",
              "          let quickchartButtonEl =\n",
              "            document.querySelector('#df-b5771a89-f0ff-4d68-948d-ed4f6e2f1085 button');\n",
              "          quickchartButtonEl.style.display =\n",
              "            google.colab.kernel.accessAllowed ? 'block' : 'none';\n",
              "        })();\n",
              "      </script>\n",
              "    </div>\n",
              "\n",
              "  <div id=\"id_8191d4ce-068b-4d63-8eff-93e81c0cda3a\">\n",
              "    <style>\n",
              "      .colab-df-generate {\n",
              "        background-color: #E8F0FE;\n",
              "        border: none;\n",
              "        border-radius: 50%;\n",
              "        cursor: pointer;\n",
              "        display: none;\n",
              "        fill: #1967D2;\n",
              "        height: 32px;\n",
              "        padding: 0 0 0 0;\n",
              "        width: 32px;\n",
              "      }\n",
              "\n",
              "      .colab-df-generate:hover {\n",
              "        background-color: #E2EBFA;\n",
              "        box-shadow: 0px 1px 2px rgba(60, 64, 67, 0.3), 0px 1px 3px 1px rgba(60, 64, 67, 0.15);\n",
              "        fill: #174EA6;\n",
              "      }\n",
              "\n",
              "      [theme=dark] .colab-df-generate {\n",
              "        background-color: #3B4455;\n",
              "        fill: #D2E3FC;\n",
              "      }\n",
              "\n",
              "      [theme=dark] .colab-df-generate:hover {\n",
              "        background-color: #434B5C;\n",
              "        box-shadow: 0px 1px 3px 1px rgba(0, 0, 0, 0.15);\n",
              "        filter: drop-shadow(0px 1px 2px rgba(0, 0, 0, 0.3));\n",
              "        fill: #FFFFFF;\n",
              "      }\n",
              "    </style>\n",
              "    <button class=\"colab-df-generate\" onclick=\"generateWithVariable('df')\"\n",
              "            title=\"Generate code using this dataframe.\"\n",
              "            style=\"display:none;\">\n",
              "\n",
              "  <svg xmlns=\"http://www.w3.org/2000/svg\" height=\"24px\"viewBox=\"0 0 24 24\"\n",
              "       width=\"24px\">\n",
              "    <path d=\"M7,19H8.4L18.45,9,17,7.55,7,17.6ZM5,21V16.75L18.45,3.32a2,2,0,0,1,2.83,0l1.4,1.43a1.91,1.91,0,0,1,.58,1.4,1.91,1.91,0,0,1-.58,1.4L9.25,21ZM18.45,9,17,7.55Zm-12,3A5.31,5.31,0,0,0,4.9,8.1,5.31,5.31,0,0,0,1,6.5,5.31,5.31,0,0,0,4.9,4.9,5.31,5.31,0,0,0,6.5,1,5.31,5.31,0,0,0,8.1,4.9,5.31,5.31,0,0,0,12,6.5,5.46,5.46,0,0,0,6.5,12Z\"/>\n",
              "  </svg>\n",
              "    </button>\n",
              "    <script>\n",
              "      (() => {\n",
              "      const buttonEl =\n",
              "        document.querySelector('#id_8191d4ce-068b-4d63-8eff-93e81c0cda3a button.colab-df-generate');\n",
              "      buttonEl.style.display =\n",
              "        google.colab.kernel.accessAllowed ? 'block' : 'none';\n",
              "\n",
              "      buttonEl.onclick = () => {\n",
              "        google.colab.notebook.generateWithVariable('df');\n",
              "      }\n",
              "      })();\n",
              "    </script>\n",
              "  </div>\n",
              "\n",
              "    </div>\n",
              "  </div>\n"
            ],
            "text/plain": [
              "                                                   title  \\\n",
              "0      law enforcement high alert following threat co...   \n",
              "1      unbelievable exclamationtoken obamas attorney ...   \n",
              "2      bobby jindal raised hindu us story christian c...   \n",
              "3      satan russia unvelis image terrifying new supe...   \n",
              "4      time exclamationtoken christian group sue amaz...   \n",
              "...                                                  ...   \n",
              "61844  wikileaks email show clinton foundation fund u...   \n",
              "61845  russian steal research trump hack u democratic...   \n",
              "61846  watch giuliani demand democrat apologize trump...   \n",
              "61847    migrant refuse leave train refugee camp hungary   \n",
              "61848  trump tussle give unpopular mexican leader muc...   \n",
              "\n",
              "                                                    text  label news_type  \\\n",
              "0      no comment expected barack obama member fyf fu...      1      Real   \n",
              "1      most demonstrator gathered last night exercisi...      1      Real   \n",
              "2      dozen politically active pastor came private d...      0     Falsa   \n",
              "3      r sarmat missile dubbed satan replace s fly mi...      1      Real   \n",
              "4      all say one time someone sued southern poverty...      1      Real   \n",
              "...                                                  ...    ...       ...   \n",
              "61844  email released wikileaks sunday appears show f...      1      Real   \n",
              "61845  washington reuters hacker believed working rus...      0     Falsa   \n",
              "61846  know fantasyland republican never questioned c...      1      Real   \n",
              "61847  migrant refuse leave train refugee camp hungar...      0     Falsa   \n",
              "61848  mexico city reuters donald trump combative sty...      0     Falsa   \n",
              "\n",
              "      lang  Cluster              category  title_length  text_length  \\\n",
              "0       en        3        Tensión social            18          871   \n",
              "1       en        3        Tensión social            18           34   \n",
              "2       en        3        Tensión social            16         1321   \n",
              "3       en        4           Geopolítica            16          329   \n",
              "4       en        3        Tensión social            13          244   \n",
              "...    ...      ...                   ...           ...          ...   \n",
              "61844   en        6  Clinton y escándalos            15          205   \n",
              "61845   en        6  Clinton y escándalos            11          735   \n",
              "61846   en        0    Trump y elecciones            10          604   \n",
              "61847   en        4           Geopolítica            10          477   \n",
              "61848   en        0    Trump y elecciones            10          559   \n",
              "\n",
              "       total_length                                          sentences  \n",
              "0               889  law enforcement high alert following threat co...  \n",
              "1                52  unbelievable exclamationtoken obamas attorney ...  \n",
              "2              1337  bobby jindal raised hindu us story christian c...  \n",
              "3               345  satan russia unvelis image terrifying new supe...  \n",
              "4               257  time exclamationtoken christian group sue amaz...  \n",
              "...             ...                                                ...  \n",
              "61844           220  wikileaks email show clinton foundation fund u...  \n",
              "61845           746  russian steal research trump hack u democratic...  \n",
              "61846           614  watch giuliani demand democrat apologize trump...  \n",
              "61847           487  migrant refuse leave train refugee camp hungar...  \n",
              "61848           569  trump tussle give unpopular mexican leader muc...  \n",
              "\n",
              "[61849 rows x 11 columns]"
            ]
          },
          "execution_count": 3,
          "metadata": {},
          "output_type": "execute_result"
        }
      ],
      "source": [
        "csv_path = \"/content/drive/MyDrive/TFG/listo.csv\"\n",
        "# Cargar CSVs\n",
        "df = pd.read_csv(csv_path, keep_default_na=False)\n",
        "\n",
        "df"
      ]
    },
    {
      "cell_type": "code",
      "execution_count": null,
      "metadata": {
        "colab": {
          "base_uri": "https://localhost:8080/"
        },
        "id": "Se9we3Umnjw7",
        "outputId": "34c67008-dba5-494e-f8d9-d9fe47078c23"
      },
      "outputs": [
        {
          "data": {
            "text/plain": [
              "(61849, 11)"
            ]
          },
          "execution_count": 4,
          "metadata": {},
          "output_type": "execute_result"
        }
      ],
      "source": [
        "df.shape"
      ]
    },
    {
      "cell_type": "code",
      "execution_count": null,
      "metadata": {
        "colab": {
          "base_uri": "https://localhost:8080/",
          "height": 429
        },
        "id": "PzsKq3WDn88D",
        "outputId": "3c590121-c75d-44ef-831e-7b8b2cde3620"
      },
      "outputs": [
        {
          "data": {
            "text/html": [
              "<div>\n",
              "<style scoped>\n",
              "    .dataframe tbody tr th:only-of-type {\n",
              "        vertical-align: middle;\n",
              "    }\n",
              "\n",
              "    .dataframe tbody tr th {\n",
              "        vertical-align: top;\n",
              "    }\n",
              "\n",
              "    .dataframe thead th {\n",
              "        text-align: right;\n",
              "    }\n",
              "</style>\n",
              "<table border=\"1\" class=\"dataframe\">\n",
              "  <thead>\n",
              "    <tr style=\"text-align: right;\">\n",
              "      <th></th>\n",
              "      <th>0</th>\n",
              "    </tr>\n",
              "  </thead>\n",
              "  <tbody>\n",
              "    <tr>\n",
              "      <th>title</th>\n",
              "      <td>0</td>\n",
              "    </tr>\n",
              "    <tr>\n",
              "      <th>text</th>\n",
              "      <td>0</td>\n",
              "    </tr>\n",
              "    <tr>\n",
              "      <th>label</th>\n",
              "      <td>0</td>\n",
              "    </tr>\n",
              "    <tr>\n",
              "      <th>news_type</th>\n",
              "      <td>0</td>\n",
              "    </tr>\n",
              "    <tr>\n",
              "      <th>lang</th>\n",
              "      <td>0</td>\n",
              "    </tr>\n",
              "    <tr>\n",
              "      <th>Cluster</th>\n",
              "      <td>0</td>\n",
              "    </tr>\n",
              "    <tr>\n",
              "      <th>category</th>\n",
              "      <td>0</td>\n",
              "    </tr>\n",
              "    <tr>\n",
              "      <th>title_length</th>\n",
              "      <td>0</td>\n",
              "    </tr>\n",
              "    <tr>\n",
              "      <th>text_length</th>\n",
              "      <td>0</td>\n",
              "    </tr>\n",
              "    <tr>\n",
              "      <th>total_length</th>\n",
              "      <td>0</td>\n",
              "    </tr>\n",
              "    <tr>\n",
              "      <th>sentences</th>\n",
              "      <td>0</td>\n",
              "    </tr>\n",
              "  </tbody>\n",
              "</table>\n",
              "</div><br><label><b>dtype:</b> int64</label>"
            ],
            "text/plain": [
              "title           0\n",
              "text            0\n",
              "label           0\n",
              "news_type       0\n",
              "lang            0\n",
              "Cluster         0\n",
              "category        0\n",
              "title_length    0\n",
              "text_length     0\n",
              "total_length    0\n",
              "sentences       0\n",
              "dtype: int64"
            ]
          },
          "execution_count": 5,
          "metadata": {},
          "output_type": "execute_result"
        }
      ],
      "source": [
        "df.isnull().sum()"
      ]
    },
    {
      "cell_type": "markdown",
      "metadata": {
        "id": "Y2VKLDKDQYMw"
      },
      "source": [
        "## Extracción de embeddings con BERT\n",
        "\n",
        "Para representar el texto como vectores numéricos, se utiliza el modelo `DistilBERT` preentrenado, que transforma cada título en un vector de 768 dimensiones.\n",
        "\n",
        "Se emplea el tokenizador de `DistilBERT`, y se utiliza el vector asociado al token `[CLS]` como representación agregada de la secuencia. Esta representación se usará como entrada al clasificador.\n",
        "\n"
      ]
    },
    {
      "cell_type": "code",
      "execution_count": null,
      "metadata": {
        "colab": {
          "base_uri": "https://localhost:8080/"
        },
        "id": "4_a5IyZR08jv",
        "outputId": "13365bc7-5863-4aad-f2b5-b29bc47148c4"
      },
      "outputs": [
        {
          "name": "stderr",
          "output_type": "stream",
          "text": [
            "/usr/local/lib/python3.11/dist-packages/huggingface_hub/utils/_auth.py:94: UserWarning: \n",
            "The secret `HF_TOKEN` does not exist in your Colab secrets.\n",
            "To authenticate with the Hugging Face Hub, create a token in your settings tab (https://huggingface.co/settings/tokens), set it as secret in your Google Colab and restart your session.\n",
            "You will be able to reuse this secret in all of your notebooks.\n",
            "Please note that authentication is recommended but still optional to access public models or datasets.\n",
            "  warnings.warn(\n"
          ]
        },
        {
          "data": {
            "text/plain": [
              "DistilBertModel(\n",
              "  (embeddings): Embeddings(\n",
              "    (word_embeddings): Embedding(30522, 768, padding_idx=0)\n",
              "    (position_embeddings): Embedding(512, 768)\n",
              "    (LayerNorm): LayerNorm((768,), eps=1e-12, elementwise_affine=True)\n",
              "    (dropout): Dropout(p=0.1, inplace=False)\n",
              "  )\n",
              "  (transformer): Transformer(\n",
              "    (layer): ModuleList(\n",
              "      (0-5): 6 x TransformerBlock(\n",
              "        (attention): DistilBertSdpaAttention(\n",
              "          (dropout): Dropout(p=0.1, inplace=False)\n",
              "          (q_lin): Linear(in_features=768, out_features=768, bias=True)\n",
              "          (k_lin): Linear(in_features=768, out_features=768, bias=True)\n",
              "          (v_lin): Linear(in_features=768, out_features=768, bias=True)\n",
              "          (out_lin): Linear(in_features=768, out_features=768, bias=True)\n",
              "        )\n",
              "        (sa_layer_norm): LayerNorm((768,), eps=1e-12, elementwise_affine=True)\n",
              "        (ffn): FFN(\n",
              "          (dropout): Dropout(p=0.1, inplace=False)\n",
              "          (lin1): Linear(in_features=768, out_features=3072, bias=True)\n",
              "          (lin2): Linear(in_features=3072, out_features=768, bias=True)\n",
              "          (activation): GELUActivation()\n",
              "        )\n",
              "        (output_layer_norm): LayerNorm((768,), eps=1e-12, elementwise_affine=True)\n",
              "      )\n",
              "    )\n",
              "  )\n",
              ")"
            ]
          },
          "execution_count": 6,
          "metadata": {},
          "output_type": "execute_result"
        }
      ],
      "source": [
        "model_name = \"distilbert-base-uncased\"\n",
        "tokenizer = DistilBertTokenizer.from_pretrained(model_name)  #\n",
        "bert_model = DistilBertModel.from_pretrained(model_name, output_hidden_states=True)  \n",
        "\n",
        "bert_model.eval()"
      ]
    },
    {
      "cell_type": "code",
      "execution_count": null,
      "metadata": {
        "colab": {
          "base_uri": "https://localhost:8080/"
        },
        "id": "SGRHBbQT2JOe",
        "outputId": "6a51b267-e9f4-4d42-8954-e5bbd7bb7d66"
      },
      "outputs": [
        {
          "name": "stdout",
          "output_type": "stream",
          "text": [
            "torch.Size([80])\n",
            "torch.Size([80])\n"
          ]
        }
      ],
      "source": [
        "def get_bert_embedding(text):\n",
        "    # Tokenize input text and get token IDs and attention mask\n",
        "    inputs = tokenizer.encode_plus(text, add_special_tokens = True, return_tensors='pt', max_length=80, truncation=True, padding='max_length')\n",
        "\n",
        "    return inputs['input_ids'].squeeze(0), inputs['attention_mask'].squeeze(0)\n",
        "\n",
        "# Testing embedding\n",
        "text = \"This is an example Reddit submission title.\"\n",
        "input_ids, attention_mask = get_bert_embedding(text)\n",
        "print(input_ids.shape)\n",
        "print(attention_mask.shape)"
      ]
    },
    {
      "cell_type": "code",
      "execution_count": null,
      "metadata": {
        "id": "tTjHZXSK2lu6"
      },
      "outputs": [],
      "source": [
        "df_train, df_test = train_test_split(df, test_size=0.2, stratify=df[\"label\"])\n",
        "df_test, df_val = train_test_split(df_test, test_size=0.5, stratify=df_test[\"label\"])"
      ]
    },
    {
      "cell_type": "markdown",
      "metadata": {
        "id": "7oBdCvVWQ2aw"
      },
      "source": [
        "## Definición del Dataset personalizado\n",
        "\n",
        "Se define una clase `BertDataset` que hereda de `torch.utils.data.Dataset`. Esta clase se encarga de:\n",
        "\n",
        "- Tokenizar el texto usando el tokenizador de BERT.\n",
        "- Devolver los `input_ids`, `attention_mask` y las etiquetas para cada muestra.\n",
        "\n",
        "Esta clase permite estructurar los datos para usarlos con un `DataLoader` de PyTorch.\n"
      ]
    },
    {
      "cell_type": "code",
      "execution_count": null,
      "metadata": {
        "id": "QlNwmebf2qB3"
      },
      "outputs": [],
      "source": [
        "class BertDataset(Dataset):\n",
        "    def __init__(self, df, text_field=\"sentences\", label_field=\"label\"):\n",
        "        self.df = df.reset_index(drop=True)\n",
        "        self.text_field = text_field\n",
        "        self.label_field = label_field\n",
        "        self.tokenizer = DistilBertTokenizer.from_pretrained(\"distilbert-base-uncased\")  # Cambio aquí\n",
        "\n",
        "    def __getitem__(self, index):\n",
        "        text = str(self.df.loc[index, self.text_field])\n",
        "        label = self.df.loc[index, self.label_field]\n",
        "\n",
        "        encoding = self.tokenizer(\n",
        "            text,\n",
        "            padding='max_length',\n",
        "            truncation=True,\n",
        "            max_length=64,\n",
        "            return_tensors=\"pt\"\n",
        "        )\n",
        "\n",
        "        return (\n",
        "            encoding[\"input_ids\"].squeeze(0),       # [seq_len]\n",
        "            encoding[\"attention_mask\"].squeeze(0),  # [seq_len]\n",
        "            torch.tensor(label)\n",
        "        )\n",
        "\n",
        "    def __len__(self):\n",
        "        return len(self.df)"
      ]
    },
    {
      "cell_type": "code",
      "execution_count": null,
      "metadata": {
        "id": "ObBVSQ3938oB"
      },
      "outputs": [],
      "source": [
        "train_dataset = BertDataset(df_train, text_field=\"title\")\n",
        "val_dataset = BertDataset(df_val, text_field=\"title\")\n",
        "test_dataset = BertDataset(df_test, text_field=\"title\")\n"
      ]
    },
    {
      "cell_type": "code",
      "execution_count": null,
      "metadata": {
        "colab": {
          "base_uri": "https://localhost:8080/"
        },
        "id": "O9_vm25137jo",
        "outputId": "9ef10060-c969-43f9-b014-7ea028dcfdb0"
      },
      "outputs": [
        {
          "name": "stdout",
          "output_type": "stream",
          "text": [
            "3093\n"
          ]
        }
      ],
      "source": [
        "train_loader = DataLoader(train_dataset, batch_size=16, shuffle=True)\n",
        "test_loader = DataLoader(test_dataset, batch_size=16, shuffle=True)\n",
        "val_loader = DataLoader(val_dataset, batch_size=16, shuffle=True)\n",
        "\n",
        "print(len(train_loader))"
      ]
    },
    {
      "cell_type": "markdown",
      "metadata": {
        "id": "YWspKT5Iy8oY"
      },
      "source": [
        "## Definición del modelo de clasificación\n",
        "\n",
        "Se define una red neuronal que toma como entrada el embedding generado por BERT para el token `[CLS]` y lo pasa por una capa lineal para obtener la predicción final (2 clases: verdadera o falsa).\n",
        "\n",
        "El modelo incluye una capa de dropout para evitar sobreajuste. No se aplica softmax en la salida ya que `CrossEntropyLoss` lo incluye internamente.\n"
      ]
    },
    {
      "cell_type": "code",
      "execution_count": null,
      "metadata": {
        "id": "gVMJy7R2poKm"
      },
      "outputs": [],
      "source": [
        "\n",
        "\n",
        "class BERTTextClassifier(nn.Module):\n",
        "    def __init__(self, num_classes=2):\n",
        "        super(BERTTextClassifier, self).__init__()\n",
        "        self.bert = DistilBertModel.from_pretrained(\"distilbert-base-uncased\")  # DistilBert\n",
        "        self.drop = nn.Dropout(0.3)\n",
        "        self.classifier = nn.Linear(self.bert.config.hidden_size, num_classes)\n",
        "\n",
        "    def forward(self, input_ids, attention_mask):\n",
        "        outputs = self.bert(input_ids=input_ids, attention_mask=attention_mask)\n",
        "        cls_output = outputs.last_hidden_state[:, 0, :]  # [CLS] token\n",
        "        x = self.drop(cls_output)\n",
        "        return self.classifier(x)\n"
      ]
    },
    {
      "cell_type": "markdown",
      "metadata": {
        "id": "LQVYWW2rzheE"
      },
      "source": [
        "## Entrenamiento del modelo\n",
        "\n",
        "El modelo se entrena usando un bucle clásico de PyTorch con la siguiente configuración:\n",
        "\n",
        "- **Función de pérdida**: `CrossEntropyLoss` con pesos por clase para corregir el desbalance del dataset.\n",
        "- **Optimizador**: Adam.\n",
        "- **Scheduler**: `ReduceLROnPlateau` para reducir la tasa de aprendizaje si la pérdida de validación se estanca.\n",
        "- **Early Stopping**: se detiene el entrenamiento si la pérdida de validación no mejora después de varias épocas seguidas.\n"
      ]
    },
    {
      "cell_type": "code",
      "execution_count": null,
      "metadata": {
        "id": "LtByU8OA6Qm5"
      },
      "outputs": [],
      "source": [
        "class EarlyStopping:\n",
        "    def __init__(self, patience=4, verbose=False, delta=0):\n",
        "        self.patience = patience\n",
        "        self.verbose = verbose\n",
        "        self.counter = 0\n",
        "        self.best_loss = None\n",
        "        self.early_stop = False\n",
        "        self.delta = delta\n",
        "\n",
        "    def __call__(self, val_loss):\n",
        "        if self.best_loss is None:\n",
        "            self.best_loss = val_loss\n",
        "        elif val_loss > self.best_loss + self.delta:\n",
        "            self.counter += 1\n",
        "            if self.verbose:\n",
        "                print(f\"EarlyStopping counter: {self.counter} out of {self.patience}\")\n",
        "            if self.counter >= self.patience:\n",
        "                self.early_stop = True\n",
        "        else:\n",
        "            self.best_loss = val_loss\n",
        "            self.counter = 0"
      ]
    },
    {
      "cell_type": "code",
      "execution_count": null,
      "metadata": {
        "id": "XK3XgxkG6oJi"
      },
      "outputs": [],
      "source": [
        "labels = df_train['label'].to_numpy()"
      ]
    },
    {
      "cell_type": "code",
      "execution_count": null,
      "metadata": {
        "id": "f4RaTLTSwonn"
      },
      "outputs": [],
      "source": [
        "device = 'cuda' if torch.cuda.is_available() else 'cpu'\n",
        "model = BERTTextClassifier(num_classes=2)\n",
        "model= model.to(device)"
      ]
    },
    {
      "cell_type": "code",
      "execution_count": null,
      "metadata": {
        "id": "2HJ3G6B66--4"
      },
      "outputs": [],
      "source": [
        "# Define loss function and optimizer\n",
        "\n",
        "\n",
        "# Assuming 'labels' is a list of all labels in the dataset\n",
        "class_weights = compute_class_weight(class_weight='balanced', classes=np.unique(labels), y=labels)\n",
        "class_weights = torch.tensor(class_weights, dtype=torch.float).to(device)\n",
        "\n",
        "# Define the loss function with class weights\n",
        "criterion = nn.CrossEntropyLoss(weight=class_weights)\n",
        "optimizer = torch.optim.Adam(model.parameters(), lr=0.0001)\n",
        "scheduler = lr_scheduler.ReduceLROnPlateau(\n",
        "    optimizer,\n",
        "    mode='min',        # 'min' para loss, 'max' para accuracy\n",
        "    factor=0.5,\n",
        "    patience=1,\n",
        "    min_lr=1e-6\n",
        ")\n",
        "num_epochs = 20\n",
        "\n",
        "import time\n",
        "\n",
        "def train_model(model, train_loader, val_loader, criterion, optimizer, scheduler, num_epochs):\n",
        "    early_stopping = EarlyStopping(patience=5, verbose=True)\n",
        "\n",
        "    for epoch in range(num_epochs):\n",
        "        start_time = time.time()\n",
        "        model.train()\n",
        "        running_loss = 0.0\n",
        "\n",
        "        print(f\"\\n⏳ Epoch {epoch+1}/{num_epochs} ------------------------\")\n",
        "\n",
        "        for step, (input_ids, attention_mask, label) in enumerate(train_loader):\n",
        "            input_ids = input_ids.to(device)\n",
        "            attention_mask = attention_mask.to(device)\n",
        "            label = label.to(device)\n",
        "\n",
        "            optimizer.zero_grad()\n",
        "            outputs = model(input_ids, attention_mask)\n",
        "            loss = criterion(outputs, label)\n",
        "            loss.backward()\n",
        "            optimizer.step()\n",
        "\n",
        "            running_loss += loss.item() * input_ids.size(0)\n",
        "\n",
        "        # Evaluación en validación\n",
        "        model.eval()\n",
        "        val_loss = 0.0\n",
        "        correct_preds = 0\n",
        "        with torch.no_grad():\n",
        "            for input_ids, attention_mask, label in val_loader:\n",
        "                input_ids = input_ids.to(device)\n",
        "                attention_mask = attention_mask.to(device)\n",
        "                label = label.to(device)\n",
        "\n",
        "                outputs = model(input_ids, attention_mask)\n",
        "                loss = criterion(outputs, label)\n",
        "                val_loss += loss.item() * input_ids.size(0)\n",
        "\n",
        "                _, preds = torch.max(outputs, 1)\n",
        "                correct_preds += torch.sum(preds == label)\n",
        "\n",
        "        val_loss /= len(val_loader.dataset)\n",
        "        accuracy = correct_preds.double() / len(val_loader.dataset)\n",
        "        scheduler.step(val_loss)\n",
        "\n",
        "        duration = time.time() - start_time\n",
        "        print(f\"\\n✅ Epoch {epoch+1} completed in {duration:.2f} sec\")\n",
        "        print(f\"   🔹 Training Loss: {running_loss/len(train_loader.dataset):.4f}\")\n",
        "        print(f\"   🔹 Validation Loss: {val_loss:.4f}\")\n",
        "        print(f\"   🔹 Accuracy: {accuracy:.4f}\")\n",
        "\n",
        "        # Early stopping\n",
        "        early_stopping(val_loss)\n",
        "        if early_stopping.early_stop:\n",
        "            print(\"\\n🛑 Early stopping triggered. Stopping training.\")\n",
        "            break\n",
        "\n",
        "\n",
        "\n"
      ]
    },
    {
      "cell_type": "code",
      "execution_count": null,
      "metadata": {
        "id": "DQ3qbrv97aNq"
      },
      "outputs": [],
      "source": [
        "from sklearn.metrics import precision_score, recall_score\n",
        "\n",
        "def evaluate_model(model, test_loader, criterion):\n",
        "    model.eval()\n",
        "    val_losses = []\n",
        "    correct_preds = 0\n",
        "\n",
        "    all_preds = []\n",
        "    all_labels = []\n",
        "\n",
        "    with torch.no_grad():\n",
        "        for input_ids, attention_mask, label in test_loader:\n",
        "            input_ids = input_ids.to(device)\n",
        "            attention_mask = attention_mask.to(device)\n",
        "            label = label.to(device)\n",
        "\n",
        "            outputs = model(input_ids=input_ids, attention_mask=attention_mask)\n",
        "\n",
        "            _, preds = torch.max(outputs, dim=1)\n",
        "            val_loss = criterion(outputs, label)\n",
        "\n",
        "            correct_preds += torch.sum(preds == label)\n",
        "\n",
        "            val_losses.append(val_loss.item())\n",
        "            all_preds.extend(preds.cpu().numpy())\n",
        "            all_labels.extend(label.cpu().numpy())\n",
        "\n",
        "    accuracy = float((correct_preds.double() / len(test_loader.dataset)) * 100)\n",
        "    precision = precision_score(all_labels, all_preds, average='weighted')\n",
        "    recall = recall_score(all_labels, all_preds, average='weighted')\n",
        "\n",
        "    print(\"\\nAccuracy: \", accuracy)\n",
        "    print(\"Precision: \", precision)\n",
        "    print(\"Recall: \", recall)\n"
      ]
    },
    {
      "cell_type": "code",
      "execution_count": null,
      "metadata": {
        "colab": {
          "base_uri": "https://localhost:8080/"
        },
        "id": "bkBWssiI-QT6",
        "outputId": "486e3cc4-504b-467f-a7f3-00f670510cc9"
      },
      "outputs": [
        {
          "name": "stdout",
          "output_type": "stream",
          "text": [
            "\n",
            "⏳ Epoch 1/5 ------------------------\n",
            "\n",
            "✅ Epoch 1 completed in 103.55 sec\n",
            "   🔹 Training Loss: 0.2746\n",
            "   🔹 Validation Loss: 0.2159\n",
            "   🔹 Accuracy: 0.9125\n",
            "\n",
            "⏳ Epoch 2/5 ------------------------\n",
            "\n",
            "✅ Epoch 2 completed in 102.94 sec\n",
            "   🔹 Training Loss: 0.1823\n",
            "   🔹 Validation Loss: 0.1971\n",
            "   🔹 Accuracy: 0.9237\n",
            "\n",
            "⏳ Epoch 3/5 ------------------------\n",
            "\n",
            "✅ Epoch 3 completed in 103.10 sec\n",
            "   🔹 Training Loss: 0.1203\n",
            "   🔹 Validation Loss: 0.2385\n",
            "   🔹 Accuracy: 0.9156\n",
            "EarlyStopping counter: 1 out of 5\n",
            "\n",
            "⏳ Epoch 4/5 ------------------------\n",
            "\n",
            "✅ Epoch 4 completed in 103.02 sec\n",
            "   🔹 Training Loss: 0.0738\n",
            "   🔹 Validation Loss: 0.2488\n",
            "   🔹 Accuracy: 0.9206\n",
            "EarlyStopping counter: 2 out of 5\n",
            "\n",
            "⏳ Epoch 5/5 ------------------------\n",
            "\n",
            "✅ Epoch 5 completed in 102.94 sec\n",
            "   🔹 Training Loss: 0.0447\n",
            "   🔹 Validation Loss: 0.3049\n",
            "   🔹 Accuracy: 0.9240\n",
            "EarlyStopping counter: 3 out of 5\n",
            "\n",
            "Accuracy:  91.96443007275667\n",
            "Precision:  0.9196305774231779\n",
            "Recall:  0.9196443007275666\n"
          ]
        }
      ],
      "source": [
        "criterion = nn.CrossEntropyLoss(weight=class_weights)\n",
        "optimizer = torch.optim.Adam(model.parameters(), lr=1e-5)\n",
        "num_epochs = 5\n",
        "\n",
        "train_model(model, train_loader,val_loader, criterion, optimizer, scheduler, num_epochs)\n",
        "#print(\"\\n\")\n",
        "evaluate_model(model, test_loader, criterion)"
      ]
    },
    {
      "cell_type": "code",
      "execution_count": null,
      "metadata": {
        "colab": {
          "base_uri": "https://localhost:8080/"
        },
        "id": "JD8wVYUnfG1-",
        "outputId": "05c83cee-6918-4411-cb1c-9a62f5927ad1"
      },
      "outputs": [
        {
          "name": "stdout",
          "output_type": "stream",
          "text": [
            "Modelo completo guardado en: /content/drive/MyDrive/TFG/bert_title.pth\n"
          ]
        }
      ],
      "source": [
        "complete_model_path = '/content/drive/MyDrive/TFG/bert_title.pth'\n",
        "torch.save(model.state_dict(), complete_model_path)\n",
        "print(f\"Modelo completo guardado en: {complete_model_path}\")\n"
      ]
    },
    {
      "cell_type": "code",
      "execution_count": null,
      "metadata": {
        "id": "1aeiuHkw2Kgm"
      },
      "outputs": [],
      "source": [
        "train_dataset = BertDataset(df_train, text_field=\"text\")\n",
        "val_dataset = BertDataset(df_val, text_field=\"text\")\n",
        "test_dataset = BertDataset(df_test, text_field=\"text\")\n"
      ]
    },
    {
      "cell_type": "code",
      "execution_count": null,
      "metadata": {
        "colab": {
          "base_uri": "https://localhost:8080/"
        },
        "id": "uWnie4wT2Qon",
        "outputId": "7cf0e5ac-43d8-458d-80f0-d3c922729711"
      },
      "outputs": [
        {
          "name": "stdout",
          "output_type": "stream",
          "text": [
            "3093\n"
          ]
        }
      ],
      "source": [
        "train_loader = DataLoader(train_dataset, batch_size=16, shuffle=True)\n",
        "test_loader = DataLoader(test_dataset, batch_size=16, shuffle=True)\n",
        "val_loader = DataLoader(val_dataset, batch_size=16, shuffle=True)\n",
        "\n",
        "print(len(train_loader))"
      ]
    },
    {
      "cell_type": "code",
      "execution_count": null,
      "metadata": {
        "colab": {
          "base_uri": "https://localhost:8080/"
        },
        "id": "CILYGbFC2i1j",
        "outputId": "d826ac77-9fb0-44da-a4ec-9bff9b017bd6"
      },
      "outputs": [
        {
          "name": "stdout",
          "output_type": "stream",
          "text": [
            "\n",
            "⏳ Epoch 1/5 ------------------------\n",
            "\n",
            "✅ Epoch 1 completed in 335.55 sec\n",
            "   🔹 Training Loss: 0.1690\n",
            "   🔹 Validation Loss: 0.1176\n",
            "   🔹 Accuracy: 0.9539\n",
            "\n",
            "⏳ Epoch 2/5 ------------------------\n",
            "\n",
            "✅ Epoch 2 completed in 335.20 sec\n",
            "   🔹 Training Loss: 0.0759\n",
            "   🔹 Validation Loss: 0.1036\n",
            "   🔹 Accuracy: 0.9602\n",
            "\n",
            "⏳ Epoch 3/5 ------------------------\n",
            "\n",
            "✅ Epoch 3 completed in 336.36 sec\n",
            "   🔹 Training Loss: 0.0383\n",
            "   🔹 Validation Loss: 0.1127\n",
            "   🔹 Accuracy: 0.9614\n",
            "EarlyStopping counter: 1 out of 5\n",
            "\n",
            "⏳ Epoch 4/5 ------------------------\n",
            "\n",
            "✅ Epoch 4 completed in 336.60 sec\n",
            "   🔹 Training Loss: 0.0195\n",
            "   🔹 Validation Loss: 0.1630\n",
            "   🔹 Accuracy: 0.9617\n",
            "EarlyStopping counter: 2 out of 5\n",
            "\n",
            "⏳ Epoch 5/5 ------------------------\n",
            "\n",
            "✅ Epoch 5 completed in 335.16 sec\n",
            "   🔹 Training Loss: 0.0133\n",
            "   🔹 Validation Loss: 0.1609\n",
            "   🔹 Accuracy: 0.9638\n",
            "EarlyStopping counter: 3 out of 5\n",
            "\n",
            "Accuracy:  96.29749393694422\n",
            "Precision:  0.962971280162684\n",
            "Recall:  0.9629749393694422\n"
          ]
        }
      ],
      "source": [
        "criterion = nn.CrossEntropyLoss(weight=class_weights)\n",
        "optimizer = torch.optim.Adam(model.parameters(), lr=1e-5)\n",
        "num_epochs = 5\n",
        "\n",
        "train_model(model, train_loader,val_loader, criterion, optimizer, scheduler, num_epochs)\n",
        "#print(\"\\n\")\n",
        "evaluate_model(model, test_loader, criterion)"
      ]
    },
    {
      "cell_type": "code",
      "execution_count": null,
      "metadata": {
        "colab": {
          "base_uri": "https://localhost:8080/"
        },
        "id": "5Ub-JApW2pk8",
        "outputId": "9dec43fe-70cf-4fa1-b80c-2959f739f6e5"
      },
      "outputs": [
        {
          "name": "stdout",
          "output_type": "stream",
          "text": [
            "Modelo completo guardado en: /content/drive/MyDrive/TFG/bert_text.pth\n"
          ]
        }
      ],
      "source": [
        "complete_model_path = '/content/drive/MyDrive/TFG/bert_text.pth'\n",
        "torch.save(model.state_dict(), complete_model_path)\n",
        "print(f\"Modelo completo guardado en: {complete_model_path}\")"
      ]
    },
    {
      "cell_type": "code",
      "execution_count": null,
      "metadata": {
        "id": "Gy8mpsC_3Gzn"
      },
      "outputs": [],
      "source": [
        "train_dataset = BertDataset(df_train)\n",
        "val_dataset = BertDataset(df_val)\n",
        "test_dataset = BertDataset(df_test)\n"
      ]
    },
    {
      "cell_type": "code",
      "execution_count": null,
      "metadata": {
        "colab": {
          "base_uri": "https://localhost:8080/"
        },
        "id": "LJlQadRf3LJs",
        "outputId": "dc533b11-b947-41b8-b323-6c9d0d1c93bb"
      },
      "outputs": [
        {
          "name": "stdout",
          "output_type": "stream",
          "text": [
            "3093\n"
          ]
        }
      ],
      "source": [
        "train_loader = DataLoader(train_dataset, batch_size=16, shuffle=True)\n",
        "test_loader = DataLoader(test_dataset, batch_size=16, shuffle=True)\n",
        "val_loader = DataLoader(val_dataset, batch_size=16, shuffle=True)\n",
        "\n",
        "print(len(train_loader))"
      ]
    },
    {
      "cell_type": "code",
      "execution_count": null,
      "metadata": {
        "colab": {
          "base_uri": "https://localhost:8080/"
        },
        "id": "i26E0V4v3M_o",
        "outputId": "c68bae06-fd92-4bd6-ecc9-0d410aa8d789"
      },
      "outputs": [
        {
          "name": "stdout",
          "output_type": "stream",
          "text": [
            "\n",
            "⏳ Epoch 1/5 ------------------------\n",
            "\n",
            "✅ Epoch 1 completed in 344.26 sec\n",
            "   🔹 Training Loss: 0.0294\n",
            "   🔹 Validation Loss: 0.0901\n",
            "   🔹 Accuracy: 0.9727\n",
            "\n",
            "⏳ Epoch 2/5 ------------------------\n",
            "\n",
            "✅ Epoch 2 completed in 343.26 sec\n",
            "   🔹 Training Loss: 0.0098\n",
            "   🔹 Validation Loss: 0.0902\n",
            "   🔹 Accuracy: 0.9769\n",
            "EarlyStopping counter: 1 out of 5\n",
            "\n",
            "⏳ Epoch 3/5 ------------------------\n",
            "\n",
            "✅ Epoch 3 completed in 344.05 sec\n",
            "   🔹 Training Loss: 0.0077\n",
            "   🔹 Validation Loss: 0.1015\n",
            "   🔹 Accuracy: 0.9745\n",
            "EarlyStopping counter: 2 out of 5\n",
            "\n",
            "⏳ Epoch 4/5 ------------------------\n",
            "\n",
            "✅ Epoch 4 completed in 343.34 sec\n",
            "   🔹 Training Loss: 0.0052\n",
            "   🔹 Validation Loss: 0.1051\n",
            "   🔹 Accuracy: 0.9756\n",
            "EarlyStopping counter: 3 out of 5\n",
            "\n",
            "⏳ Epoch 5/5 ------------------------\n",
            "\n",
            "✅ Epoch 5 completed in 343.29 sec\n",
            "   🔹 Training Loss: 0.0037\n",
            "   🔹 Validation Loss: 0.1387\n",
            "   🔹 Accuracy: 0.9728\n",
            "EarlyStopping counter: 4 out of 5\n",
            "\n",
            "Accuracy:  97.42926434923203\n",
            "Precision:  0.9742959413599204\n",
            "Recall:  0.9742926434923201\n"
          ]
        }
      ],
      "source": [
        "criterion = nn.CrossEntropyLoss(weight=class_weights)\n",
        "optimizer = torch.optim.Adam(model.parameters(), lr=1e-5)\n",
        "num_epochs = 5\n",
        "\n",
        "train_model(model, train_loader,val_loader, criterion, optimizer, scheduler, num_epochs)\n",
        "#print(\"\\n\")\n",
        "evaluate_model(model, test_loader, criterion)"
      ]
    },
    {
      "cell_type": "code",
      "execution_count": null,
      "metadata": {
        "colab": {
          "base_uri": "https://localhost:8080/"
        },
        "id": "8KLkERCw3Os6",
        "outputId": "f44eb01e-711e-446e-81d8-9768237d4fbc"
      },
      "outputs": [
        {
          "name": "stdout",
          "output_type": "stream",
          "text": [
            "Modelo completo guardado en: /content/drive/MyDrive/TFG/bert_sentences.pth\n"
          ]
        }
      ],
      "source": [
        "complete_model_path = '/content/drive/MyDrive/TFG/bert_sentences.pth'\n",
        "torch.save(model.state_dict(), complete_model_path)\n",
        "print(f\"Modelo completo guardado en: {complete_model_path}\")"
      ]
    },
    {
      "cell_type": "code",
      "execution_count": null,
      "metadata": {
        "colab": {
          "base_uri": "https://localhost:8080/"
        },
        "id": "-mKJOse4BFn7",
        "outputId": "5964719c-cb30-4ff2-91d9-5e6325723e4b"
      },
      "outputs": [
        {
          "name": "stdout",
          "output_type": "stream",
          "text": [
            "True\n"
          ]
        }
      ],
      "source": [
        "import os\n",
        "print(os.path.exists('/content/drive/MyDrive/TFG/bert_sentences.pth'))"
      ]
    }
  ],
  "metadata": {
    "accelerator": "GPU",
    "colab": {
      "gpuType": "A100",
      "machine_shape": "hm",
      "provenance": []
    },
    "kernelspec": {
      "display_name": "venv",
      "language": "python",
      "name": "python3"
    },
    "language_info": {
      "codemirror_mode": {
        "name": "ipython",
        "version": 3
      },
      "file_extension": ".py",
      "mimetype": "text/x-python",
      "name": "python",
      "nbconvert_exporter": "python",
      "pygments_lexer": "ipython3",
      "version": "3.10.12"
    }
  },
  "nbformat": 4,
  "nbformat_minor": 0
}
